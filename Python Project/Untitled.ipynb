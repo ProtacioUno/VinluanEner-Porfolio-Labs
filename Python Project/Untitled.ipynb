{
 "cells": [
  {
   "cell_type": "code",
   "execution_count": 1,
   "id": "4fa15999-e3d2-409c-a35e-853b49773e18",
   "metadata": {},
   "outputs": [],
   "source": [
    "import pandas as pd  \n",
    "import numpy as np\n",
    "import matplotlib.pyplot as plt\n",
    "import math "
   ]
  },
  {
   "cell_type": "code",
   "execution_count": 2,
   "id": "8e206c3c-688b-4d22-8598-231a9e5bcc80",
   "metadata": {},
   "outputs": [],
   "source": [
    "df = pd.DataFrame(\n",
    "    {'Type': [\"A\" , \"B\" , \"C\" , \"D\" , \"E\" , \"F\" , \"G\"]  ,  \n",
    "     'Valuez' : [25, 24 , 20, 14, 13 ,21 , 18]   \n",
    "    }\n",
    ")  "
   ]
  },
  {
   "cell_type": "code",
   "execution_count": 3,
   "id": "66430cec-4073-478e-b36b-c10d2e159524",
   "metadata": {},
   "outputs": [
    {
     "data": {
      "text/html": [
       "<div>\n",
       "<style scoped>\n",
       "    .dataframe tbody tr th:only-of-type {\n",
       "        vertical-align: middle;\n",
       "    }\n",
       "\n",
       "    .dataframe tbody tr th {\n",
       "        vertical-align: top;\n",
       "    }\n",
       "\n",
       "    .dataframe thead th {\n",
       "        text-align: right;\n",
       "    }\n",
       "</style>\n",
       "<table border=\"1\" class=\"dataframe\">\n",
       "  <thead>\n",
       "    <tr style=\"text-align: right;\">\n",
       "      <th></th>\n",
       "      <th>Type</th>\n",
       "      <th>Valuez</th>\n",
       "      <th>mean</th>\n",
       "    </tr>\n",
       "  </thead>\n",
       "  <tbody>\n",
       "    <tr>\n",
       "      <th>0</th>\n",
       "      <td>A</td>\n",
       "      <td>25</td>\n",
       "      <td>19.285714</td>\n",
       "    </tr>\n",
       "    <tr>\n",
       "      <th>1</th>\n",
       "      <td>B</td>\n",
       "      <td>24</td>\n",
       "      <td>19.285714</td>\n",
       "    </tr>\n",
       "    <tr>\n",
       "      <th>2</th>\n",
       "      <td>C</td>\n",
       "      <td>20</td>\n",
       "      <td>19.285714</td>\n",
       "    </tr>\n",
       "    <tr>\n",
       "      <th>3</th>\n",
       "      <td>D</td>\n",
       "      <td>14</td>\n",
       "      <td>19.285714</td>\n",
       "    </tr>\n",
       "    <tr>\n",
       "      <th>4</th>\n",
       "      <td>E</td>\n",
       "      <td>13</td>\n",
       "      <td>19.285714</td>\n",
       "    </tr>\n",
       "    <tr>\n",
       "      <th>5</th>\n",
       "      <td>F</td>\n",
       "      <td>21</td>\n",
       "      <td>19.285714</td>\n",
       "    </tr>\n",
       "    <tr>\n",
       "      <th>6</th>\n",
       "      <td>G</td>\n",
       "      <td>18</td>\n",
       "      <td>19.285714</td>\n",
       "    </tr>\n",
       "  </tbody>\n",
       "</table>\n",
       "</div>"
      ],
      "text/plain": [
       "  Type  Valuez       mean\n",
       "0    A      25  19.285714\n",
       "1    B      24  19.285714\n",
       "2    C      20  19.285714\n",
       "3    D      14  19.285714\n",
       "4    E      13  19.285714\n",
       "5    F      21  19.285714\n",
       "6    G      18  19.285714"
      ]
     },
     "execution_count": 3,
     "metadata": {},
     "output_type": "execute_result"
    }
   ],
   "source": [
    "df['mean'] = df['Valuez'].mean()\n",
    "df \n",
    "# ['Valuez']\n",
    "# df['Valuez'].mean()"
   ]
  },
  {
   "cell_type": "code",
   "execution_count": 4,
   "id": "e6978cd4-1ded-493b-88b7-8f2d31cd4369",
   "metadata": {},
   "outputs": [],
   "source": [
    "df['Valuez-mean'] = df['Valuez'] - df['mean']\n",
    "\n"
   ]
  },
  {
   "cell_type": "code",
   "execution_count": 5,
   "id": "caa3b06b-eaab-46e4-bbf6-207cc748df9a",
   "metadata": {},
   "outputs": [
    {
     "data": {
      "text/html": [
       "<div>\n",
       "<style scoped>\n",
       "    .dataframe tbody tr th:only-of-type {\n",
       "        vertical-align: middle;\n",
       "    }\n",
       "\n",
       "    .dataframe tbody tr th {\n",
       "        vertical-align: top;\n",
       "    }\n",
       "\n",
       "    .dataframe thead th {\n",
       "        text-align: right;\n",
       "    }\n",
       "</style>\n",
       "<table border=\"1\" class=\"dataframe\">\n",
       "  <thead>\n",
       "    <tr style=\"text-align: right;\">\n",
       "      <th></th>\n",
       "      <th>Type</th>\n",
       "      <th>Valuez</th>\n",
       "      <th>mean</th>\n",
       "      <th>Valuez-mean</th>\n",
       "      <th>green</th>\n",
       "      <th>red</th>\n",
       "    </tr>\n",
       "  </thead>\n",
       "  <tbody>\n",
       "    <tr>\n",
       "      <th>0</th>\n",
       "      <td>A</td>\n",
       "      <td>25</td>\n",
       "      <td>19.285714</td>\n",
       "      <td>5.714286</td>\n",
       "      <td></td>\n",
       "      <td>5.714286</td>\n",
       "    </tr>\n",
       "    <tr>\n",
       "      <th>1</th>\n",
       "      <td>B</td>\n",
       "      <td>24</td>\n",
       "      <td>19.285714</td>\n",
       "      <td>4.714286</td>\n",
       "      <td></td>\n",
       "      <td>4.714286</td>\n",
       "    </tr>\n",
       "    <tr>\n",
       "      <th>2</th>\n",
       "      <td>C</td>\n",
       "      <td>20</td>\n",
       "      <td>19.285714</td>\n",
       "      <td>0.714286</td>\n",
       "      <td></td>\n",
       "      <td>0.714286</td>\n",
       "    </tr>\n",
       "    <tr>\n",
       "      <th>3</th>\n",
       "      <td>D</td>\n",
       "      <td>14</td>\n",
       "      <td>19.285714</td>\n",
       "      <td>-5.285714</td>\n",
       "      <td>-5.285714</td>\n",
       "      <td></td>\n",
       "    </tr>\n",
       "    <tr>\n",
       "      <th>4</th>\n",
       "      <td>E</td>\n",
       "      <td>13</td>\n",
       "      <td>19.285714</td>\n",
       "      <td>-6.285714</td>\n",
       "      <td>-6.285714</td>\n",
       "      <td></td>\n",
       "    </tr>\n",
       "    <tr>\n",
       "      <th>5</th>\n",
       "      <td>F</td>\n",
       "      <td>21</td>\n",
       "      <td>19.285714</td>\n",
       "      <td>1.714286</td>\n",
       "      <td></td>\n",
       "      <td>1.714286</td>\n",
       "    </tr>\n",
       "    <tr>\n",
       "      <th>6</th>\n",
       "      <td>G</td>\n",
       "      <td>18</td>\n",
       "      <td>19.285714</td>\n",
       "      <td>-1.285714</td>\n",
       "      <td>-1.285714</td>\n",
       "      <td></td>\n",
       "    </tr>\n",
       "  </tbody>\n",
       "</table>\n",
       "</div>"
      ],
      "text/plain": [
       "  Type  Valuez       mean  Valuez-mean     green       red\n",
       "0    A      25  19.285714     5.714286            5.714286\n",
       "1    B      24  19.285714     4.714286            4.714286\n",
       "2    C      20  19.285714     0.714286            0.714286\n",
       "3    D      14  19.285714    -5.285714 -5.285714          \n",
       "4    E      13  19.285714    -6.285714 -6.285714          \n",
       "5    F      21  19.285714     1.714286            1.714286\n",
       "6    G      18  19.285714    -1.285714 -1.285714          "
      ]
     },
     "execution_count": 5,
     "metadata": {},
     "output_type": "execute_result"
    }
   ],
   "source": [
    "def assign_green(row): \n",
    "    if row['Valuez-mean'] < 0 :\n",
    "        return row['Valuez-mean']\n",
    "    else :\n",
    "        return \"\"\n",
    "\n",
    "def assign_red(row): \n",
    "    if row['Valuez-mean'] > 0 :\n",
    "        return row['Valuez-mean']\n",
    "    else :\n",
    "        return \"\"\n",
    "\n",
    "df['green'] = df.apply(assign_green , axis=1)\n",
    "df['red'] = df.apply(assign_red, axis=1)\n",
    "df\n",
    "\n",
    "\n",
    "# df.type\n",
    "# print(df['green'].dtypes)"
   ]
  },
  {
   "cell_type": "code",
   "execution_count": 30,
   "id": "3756b5c5-8c08-43a6-9ad8-44e5fadf67cd",
   "metadata": {},
   "outputs": [
    {
     "data": {
      "text/plain": [
       "<matplotlib.legend.Legend at 0x18b8da7f7d0>"
      ]
     },
     "execution_count": 30,
     "metadata": {},
     "output_type": "execute_result"
    },
    {
     "data": {
      "image/png": "[encoded data removed]",
      "text/plain": [
       "<Figure size 640x480 with 1 Axes>"
      ]
     },
     "metadata": {},
     "output_type": "display_data"
    }
   ],
   "source": [
    "plt.plot(df['Type'] , df['Valuez'] , color='grey' , label='actual_value')\n",
    "plt.plot(df['Type'] ,  df['mean'] , color='r' , alpha=0.3, linestyle='--' , label='mean')\n",
    "\n",
    "plt.legend() \n"
   ]
  },
  {
   "cell_type": "code",
   "execution_count": null,
   "id": "270cf1a0-2217-46b7-b300-5293764b5c0c",
   "metadata": {},
   "outputs": [],
   "source": []
  }
 ],
 "metadata": {
  "kernelspec": {
   "display_name": "Python 3 (ipykernel)",
   "language": "python",
   "name": "python3"
  },
  "language_info": {
   "codemirror_mode": {
    "name": "ipython",
    "version": 3
   },
   "file_extension": ".py",
   "mimetype": "text/x-python",
   "name": "python",
   "nbconvert_exporter": "python",
   "pygments_lexer": "ipython3",
   "version": "3.11.5"
  }
 },
 "nbformat": 4,
 "nbformat_minor": 5
}
