{
 "cells": [
  {
   "cell_type": "code",
   "execution_count": 1,
   "id": "4fa15999-e3d2-409c-a35e-853b49773e18",
   "metadata": {},
   "outputs": [],
   "source": [
    "import pandas as pd  \n",
    "import numpy as np\n",
    "import matplotlib.pyplot as plt\n",
    "import math "
   ]
  },
  {
   "cell_type": "code",
   "execution_count": 2,
   "id": "8e206c3c-688b-4d22-8598-231a9e5bcc80",
   "metadata": {},
   "outputs": [],
   "source": [
    "df = pd.DataFrame(\n",
    "    {'Type': [\"A\" , \"B\" , \"C\" , \"D\" , \"E\" , \"F\" , \"G\"]  ,  \n",
    "     'Valuez' : [25, 24 , 20, 14, 13 ,21 , 18]   \n",
    "    }\n",
    ")  "
   ]
  },
  {
   "cell_type": "code",
   "execution_count": 3,
   "id": "66430cec-4073-478e-b36b-c10d2e159524",
   "metadata": {},
   "outputs": [
    {
     "data": {
      "text/html": [
       "<div>\n",
       "<style scoped>\n",
       "    .dataframe tbody tr th:only-of-type {\n",
       "        vertical-align: middle;\n",
       "    }\n",
       "\n",
       "    .dataframe tbody tr th {\n",
       "        vertical-align: top;\n",
       "    }\n",
       "\n",
       "    .dataframe thead th {\n",
       "        text-align: right;\n",
       "    }\n",
       "</style>\n",
       "<table border=\"1\" class=\"dataframe\">\n",
       "  <thead>\n",
       "    <tr style=\"text-align: right;\">\n",
       "      <th></th>\n",
       "      <th>Type</th>\n",
       "      <th>Valuez</th>\n",
       "      <th>mean_s</th>\n",
       "      <th>Valuez-mean</th>\n",
       "      <th>green</th>\n",
       "      <th>red</th>\n",
       "      <th>positive_val</th>\n",
       "    </tr>\n",
       "  </thead>\n",
       "  <tbody>\n",
       "    <tr>\n",
       "      <th>0</th>\n",
       "      <td>A</td>\n",
       "      <td>25</td>\n",
       "      <td>19.285714</td>\n",
       "      <td>5.714286</td>\n",
       "      <td></td>\n",
       "      <td>5.714286</td>\n",
       "      <td>5.714286</td>\n",
       "    </tr>\n",
       "    <tr>\n",
       "      <th>1</th>\n",
       "      <td>B</td>\n",
       "      <td>24</td>\n",
       "      <td>19.285714</td>\n",
       "      <td>4.714286</td>\n",
       "      <td></td>\n",
       "      <td>4.714286</td>\n",
       "      <td>4.714286</td>\n",
       "    </tr>\n",
       "    <tr>\n",
       "      <th>2</th>\n",
       "      <td>C</td>\n",
       "      <td>20</td>\n",
       "      <td>19.285714</td>\n",
       "      <td>0.714286</td>\n",
       "      <td></td>\n",
       "      <td>0.714286</td>\n",
       "      <td>0.714286</td>\n",
       "    </tr>\n",
       "    <tr>\n",
       "      <th>3</th>\n",
       "      <td>D</td>\n",
       "      <td>14</td>\n",
       "      <td>19.285714</td>\n",
       "      <td>-5.285714</td>\n",
       "      <td>-5.285714</td>\n",
       "      <td></td>\n",
       "      <td>5.285714</td>\n",
       "    </tr>\n",
       "    <tr>\n",
       "      <th>4</th>\n",
       "      <td>E</td>\n",
       "      <td>13</td>\n",
       "      <td>19.285714</td>\n",
       "      <td>-6.285714</td>\n",
       "      <td>-6.285714</td>\n",
       "      <td></td>\n",
       "      <td>6.285714</td>\n",
       "    </tr>\n",
       "    <tr>\n",
       "      <th>5</th>\n",
       "      <td>F</td>\n",
       "      <td>21</td>\n",
       "      <td>19.285714</td>\n",
       "      <td>1.714286</td>\n",
       "      <td></td>\n",
       "      <td>1.714286</td>\n",
       "      <td>1.714286</td>\n",
       "    </tr>\n",
       "    <tr>\n",
       "      <th>6</th>\n",
       "      <td>G</td>\n",
       "      <td>18</td>\n",
       "      <td>19.285714</td>\n",
       "      <td>-1.285714</td>\n",
       "      <td>-1.285714</td>\n",
       "      <td></td>\n",
       "      <td>1.285714</td>\n",
       "    </tr>\n",
       "  </tbody>\n",
       "</table>\n",
       "</div>"
      ],
      "text/plain": [
       "  Type  Valuez     mean_s  Valuez-mean     green       red  positive_val\n",
       "0    A      25  19.285714     5.714286            5.714286      5.714286\n",
       "1    B      24  19.285714     4.714286            4.714286      4.714286\n",
       "2    C      20  19.285714     0.714286            0.714286      0.714286\n",
       "3    D      14  19.285714    -5.285714 -5.285714                5.285714\n",
       "4    E      13  19.285714    -6.285714 -6.285714                6.285714\n",
       "5    F      21  19.285714     1.714286            1.714286      1.714286\n",
       "6    G      18  19.285714    -1.285714 -1.285714                1.285714"
      ]
     },
     "execution_count": 3,
     "metadata": {},
     "output_type": "execute_result"
    }
   ],
   "source": [
    "df['mean_s'] = df['Valuez'].mean()  \n",
    "# placint mean column for mean line in fihure\n",
    "df['Valuez-mean'] = df['Valuez'] - df['mean_s']\n",
    "df \n",
    "\n",
    "def assign_green(row): \n",
    "    if row['Valuez-mean'] < 0 :\n",
    "        return row['Valuez-mean']\n",
    "    else :\n",
    "        return \"\"\n",
    "\n",
    "def assign_red(row): \n",
    "    if row['Valuez-mean'] > 0 :\n",
    "        return row['Valuez-mean']\n",
    "    else :\n",
    "        return \"\"\n",
    "\n",
    "df['green'] = df.apply(assign_green , axis=1)\n",
    "df['red'] = df.apply(assign_red, axis=1)\n",
    "df['positive_val'] = abs(df['Valuez-mean']) \n",
    "df \n"
   ]
  },
  {
   "cell_type": "code",
   "execution_count": 4,
   "id": "3756b5c5-8c08-43a6-9ad8-44e5fadf67cd",
   "metadata": {},
   "outputs": [
    {
     "data": {
      "text/plain": [
       "<matplotlib.legend.Legend at 0x17eeef17e90>"
      ]
     },
     "execution_count": 4,
     "metadata": {},
     "output_type": "execute_result"
    },
    {
     "data": {
      "image/png": "[encoded data removed]",
      "text/plain": [
       "<Figure size 400x400 with 1 Axes>"
      ]
     },
     "metadata": {},
     "output_type": "display_data"
    }
   ],
   "source": [
    "plt.figure(figsize=(4 , 4)) \n",
    "\n",
    "plt.plot(df['Type'] , df['Valuez'] , color='grey' , label='actual_value') \n",
    "# print(df['Valuez'].mean())\n",
    "# using ashline with mean\n",
    "plt.axhline(y= df['Valuez'].mean(), color='r' , linestyle='--' , alpha=0.3 , label='mean')\n",
    "# plt.text(3.5, variance, f'Variance: {variance:.2f}', color='r', va='center', ha='right')\n",
    "plt.text(3.5 , df['Valuez'].mean(), f\" {round(df['Valuez'].mean() , 2)} \" ,  color='r' ,  bbox=dict(facecolor='white', edgecolor='none'))   \n",
    "# plt.plot(df['Type'] ,  df['mean_s'] , color='r' , alpha=0.3, linestyle='--' , label='mean')  \n",
    "plt.legend() \n",
    "\n"
   ]
  },
  {
   "cell_type": "code",
   "execution_count": 8,
   "id": "9dfb0491-1bf2-406f-a23a-aa58f6329abf",
   "metadata": {},
   "outputs": [
    {
     "name": "stdout",
     "output_type": "stream",
     "text": [
      "[5.71428571 4.71428571 0.71428571 5.28571429 6.28571429 1.71428571\n",
      " 1.28571429]\n",
      "7\n",
      "7\n"
     ]
    },
    {
     "data": {
      "text/plain": [
       "<matplotlib.legend.Legend at 0x17ef00b7e90>"
      ]
     },
     "execution_count": 8,
     "metadata": {},
     "output_type": "execute_result"
    },
    {
     "data": {
      "image/png": "[encoded data removed]",
      "text/plain": [
       "<Figure size 400x400 with 1 Axes>"
      ]
     },
     "metadata": {},
     "output_type": "display_data"
    }
   ],
   "source": [
    "plt.figure(figsize=(4 , 4)) \n",
    "\n",
    "seeds = np.random.seed(3)\n",
    "# erros =  np.random.randint(1, 5 , 7 )\n",
    "erros = df['positive_val'].values\n",
    "print(erros) \n",
    "\n",
    "\n",
    "print(len(erros))\n",
    "print(len(df['Type']))\n",
    "\n",
    " \n",
    "plt.plot(df['Type'] , df['Valuez'] , color='grey' , label='actual_value')  \n",
    "# print(df['Valuez'].mean())\n",
    "# using ashline with mean \n",
    "# plt.axhline(y= df['Valuez'].mean(), color='r' , linestyle='--' , alpha=0.3 , label='mean')\n",
    "# plt.text(3.5, variance, f'Variance: {variance:.2f}', color='r', va='center', ha='right')\n",
    "# plt.text(3.5 , df['Valuez'].mean(), f\" {round(df['Valuez'].mean() , 2)} \" ,  color='r' ,  bbox=dict(facecolor='white', edgecolor='none'))   \n",
    "# plt.plot(df['Type'] ,  df['mean_s'] ,  yerr=erros ,    color='r' , alpha=0 , label='mean')   \n",
    "plt.plot(df['Type'] ,  df['mean_s'] ,  color='r' , alpha=0.3 , label='mean' , linestyle='--')    \n",
    "# plt.yticks([0 , 15 , 30 ])\n",
    "\n",
    "plt.legend()  \n",
    "\n"
   ]
  },
  {
   "cell_type": "code",
   "execution_count": 6,
   "id": "277d1804-5974-4ac8-bccb-2c15c3137e46",
   "metadata": {},
   "outputs": [
    {
     "name": "stdout",
     "output_type": "stream",
     "text": [
      "{'A': [25, 19.285714285714285], 'B': [24, 19.285714285714285], 'C': [20, 19.285714285714285], 'D': [14, 19.285714285714285], 'E': [13, 19.285714285714285], 'F': [21, 19.285714285714285], 'G': [18, 19.285714285714285]}\n",
      "value of dict  [[25, 19.285714285714285], [24, 19.285714285714285], [20, 19.285714285714285], [14, 19.285714285714285], [13, 19.285714285714285], [21, 19.285714285714285], [18, 19.285714285714285]]\n"
     ]
    },
    {
     "data": {
      "image/png": "[encoded data removed]",
      "text/plain": [
       "<Figure size 400x400 with 1 Axes>"
      ]
     },
     "metadata": {},
     "output_type": "display_data"
    }
   ],
   "source": [
    "plt.figure(figsize=(4 , 4)) \n",
    "\n",
    "hep = {}\n",
    "for x in range(len(df)) : \n",
    "    update_dict = df.loc[x , ['Type'  , 'Valuez' , 'mean_s'] ]\n",
    "    sampol_dict = {update_dict.Type : [update_dict.Valuez , update_dict.mean_s ]  }\n",
    "    # hep.update(update_dict.Type)\n",
    "    # print(\"im shit \" , sampol_dict) \n",
    "\n",
    "    hep.update(sampol_dict)      \n",
    "print(hep) \n",
    "# print(\"im shit \" , sampol_dict) \n",
    "\n",
    "\n",
    "plt.plot(df['Type'] , df['Valuez'] , color='grey' , label='actual_value')\n",
    "plt.plot(df['Type']  ,  df['mean_s'] , color='r' , alpha=0.3, linestyle='--' , label='mean')\n",
    "# plt.legend()  \n",
    "\n",
    "dict_value = [value for value in hep.values()] \n",
    "plt.boxplot(dict_value , labels=list(hep.keys()))\n",
    "\n",
    "print( \"value of dict \" , dict_value)\n"
   ]
  },
  {
   "cell_type": "code",
   "execution_count": 7,
   "id": "8fd8af2d-2174-4825-816c-d02ea128f8a7",
   "metadata": {},
   "outputs": [
    {
     "ename": "NameError",
     "evalue": "name 'data_dict' is not defined",
     "output_type": "error",
     "traceback": [
      "\u001b[1;31m---------------------------------------------------------------------------\u001b[0m",
      "\u001b[1;31mNameError\u001b[0m                                 Traceback (most recent call last)",
      "Cell \u001b[1;32mIn[7], line 4\u001b[0m\n\u001b[0;32m      1\u001b[0m \u001b[38;5;66;03m# data_dict = {\"group1\": [1, 2, 3, 4], \"group2\": [5, 6, 7, 8, 9]}\u001b[39;00m\n\u001b[0;32m      2\u001b[0m \n\u001b[0;32m      3\u001b[0m \u001b[38;5;66;03m# Flatten the data into a single list\u001b[39;00m\n\u001b[1;32m----> 4\u001b[0m data_list \u001b[38;5;241m=\u001b[39m [value \u001b[38;5;28;01mfor\u001b[39;00m value \u001b[38;5;129;01min\u001b[39;00m data_dict\u001b[38;5;241m.\u001b[39mvalues()]\n\u001b[0;32m      6\u001b[0m \u001b[38;5;66;03m# print(data_list)\u001b[39;00m\n\u001b[0;32m      7\u001b[0m \u001b[38;5;66;03m# Create the box plot\u001b[39;00m\n\u001b[0;32m      8\u001b[0m plt\u001b[38;5;241m.\u001b[39mboxplot(data_list, labels\u001b[38;5;241m=\u001b[39m\u001b[38;5;28mlist\u001b[39m(data_dict\u001b[38;5;241m.\u001b[39mkeys()))\n",
      "\u001b[1;31mNameError\u001b[0m: name 'data_dict' is not defined"
     ]
    }
   ],
   "source": [
    "# data_dict = {\"group1\": [1, 2, 3, 4], \"group2\": [5, 6, 7, 8, 9]}\n",
    "\n",
    "# Flatten the data into a single list\n",
    "data_list = [value for value in data_dict.values()]\n",
    "\n",
    "# print(data_list)\n",
    "# Create the box plot\n",
    "plt.boxplot(data_list, labels=list(data_dict.keys()))\n",
    "plt.show()"
   ]
  },
  {
   "cell_type": "code",
   "execution_count": null,
   "id": "270cf1a0-2217-46b7-b300-5293764b5c0c",
   "metadata": {},
   "outputs": [],
   "source": [
    "# Sample data with specific x-values\n",
    "x = [19, 20, 21, 22, 23, 24]\n",
    "y1 = [0, 1, 4, 9, 16, 25]\n",
    "y2 = [0, 1, 2, 3, 4, 5]\n",
    "\n",
    "# Create the plot\n",
    "plt.plot(x, y1, marker='o', linestyle='-', color='b', alpha=0.7, label='y = x^2')\n",
    "plt.plot(x, y2, marker='s', linestyle='--', color='r', alpha=0.7, label='y = x')\n",
    "\n",
    "# Add title and labels\n",
    "plt.title('Line Plot with Custom X-axis Values and Labels')\n",
    "plt.xlabel('X Axis')\n",
    "plt.ylabel('Y Axis')\n",
    "\n",
    "# Add legend\n",
    "plt.legend()\n",
    "\n",
    "# Show the plot\n",
    "plt.show()"
   ]
  },
  {
   "cell_type": "code",
   "execution_count": null,
   "id": "958bb541-8846-4c89-83d1-695bc97428de",
   "metadata": {},
   "outputs": [],
   "source": [
    "plt.style.use('_mpl-gallery')\n",
    "\n",
    "# make data\n",
    "np.random.seed(1)\n",
    "x = np.linspace(0, 8, 16)\n",
    "y1 = 3 + 4*x/8 + np.random.uniform(0.0, 0.5, len(x))\n",
    "y2 = 1 + 2*x/8 + np.random.uniform(0.0, 0.5, len(x))\n",
    "\n",
    "# plot\n",
    "fig, ax = plt.subplots()\n",
    "\n",
    "ax.fill_between(x, y1, y2, alpha=.5, linewidth=0)\n",
    "# ax.plot(x, (y1 + y2)/2, linewidth=2)\n",
    "\n",
    "# ax.set(xlim=(0, 8), xticks=np.arange(1, 8),\n",
    "#        ylim=(0, 8), yticks=np.arange(1, 8))\n",
    "\n",
    "plt.show()"
   ]
  },
  {
   "cell_type": "code",
   "execution_count": null,
   "id": "e48f2b38-c73e-4dd8-98da-015abe26ed76",
   "metadata": {},
   "outputs": [],
   "source": [
    " \n",
    " #  https://www.youtube.com/watch?v=yCGfZhDzVXY \n",
    "fig , (ax1, ax2 , ax3 ) = plt.subplots(1, 3,  figsize=(9, 3)) \n",
    "\n",
    "x = \n",
    "# ax1.plot(df['Type'] , df['Valuez']  )\n",
    "# ax2.plot(df['Type'] , df['Valuez'] )\n",
    "# ax1.set_facecolor('red')\n",
    "\n",
    "# ax2.bar(df['Type'] , df['Valuez']   )"
   ]
  },
  {
   "cell_type": "code",
   "execution_count": 17,
   "id": "8ad64fcd-1119-4556-9d43-f169f42bb32c",
   "metadata": {},
   "outputs": [
    {
     "data": {
      "image/png": "[encoded data removed]",
      "text/plain": [
       "<Figure size 800x600 with 1 Axes>"
      ]
     },
     "metadata": {},
     "output_type": "display_data"
    }
   ],
   "source": [
    "import matplotlib.pyplot as plt\n",
    "\n",
    "# Sample data\n",
    "x = ['A', 'B', 'C', 'D']\n",
    "y = [10, 15, 12, 17]\n",
    "error = [2.5, 2, 1.5, 1.8]  # Example error values (standard deviations)\n",
    "\n",
    "# Create a bar plot with error bars\n",
    "plt.figure(figsize=(8, 6))\n",
    "plt.bar(x, y, yerr=error, capsize=5, color='skyblue')\n",
    "\n",
    "# Add labels and title\n",
    "plt.xlabel('Categories')\n",
    "plt.ylabel('Values')\n",
    "plt.title('Bar Plot with Error Bars')\n",
    "\n",
    "# Show plot\n",
    "plt.show()"
   ]
  },
  {
   "cell_type": "code",
   "execution_count": 16,
   "id": "a76ee7f5-d045-42b6-a09d-0be8142972e0",
   "metadata": {},
   "outputs": [
    {
     "name": "stdout",
     "output_type": "stream",
     "text": [
      "\n"
     ]
    },
    {
     "data": {
      "text/html": [
       "<div>\n",
       "<style scoped>\n",
       "    .dataframe tbody tr th:only-of-type {\n",
       "        vertical-align: middle;\n",
       "    }\n",
       "\n",
       "    .dataframe tbody tr th {\n",
       "        vertical-align: top;\n",
       "    }\n",
       "\n",
       "    .dataframe thead th {\n",
       "        text-align: right;\n",
       "    }\n",
       "</style>\n",
       "<table border=\"1\" class=\"dataframe\">\n",
       "  <thead>\n",
       "    <tr style=\"text-align: right;\">\n",
       "      <th></th>\n",
       "      <th>type</th>\n",
       "      <th>values</th>\n",
       "      <th>mean</th>\n",
       "      <th>val-mean</th>\n",
       "      <th>pos_vm</th>\n",
       "    </tr>\n",
       "  </thead>\n",
       "  <tbody>\n",
       "    <tr>\n",
       "      <th>0</th>\n",
       "      <td>A</td>\n",
       "      <td>18</td>\n",
       "      <td>21.4</td>\n",
       "      <td>-3.4</td>\n",
       "      <td>3.4</td>\n",
       "    </tr>\n",
       "    <tr>\n",
       "      <th>1</th>\n",
       "      <td>B</td>\n",
       "      <td>21</td>\n",
       "      <td>21.4</td>\n",
       "      <td>-0.4</td>\n",
       "      <td>0.4</td>\n",
       "    </tr>\n",
       "    <tr>\n",
       "      <th>2</th>\n",
       "      <td>C</td>\n",
       "      <td>23</td>\n",
       "      <td>21.4</td>\n",
       "      <td>1.6</td>\n",
       "      <td>1.6</td>\n",
       "    </tr>\n",
       "    <tr>\n",
       "      <th>3</th>\n",
       "      <td>D</td>\n",
       "      <td>24</td>\n",
       "      <td>21.4</td>\n",
       "      <td>2.6</td>\n",
       "      <td>2.6</td>\n",
       "    </tr>\n",
       "    <tr>\n",
       "      <th>4</th>\n",
       "      <td>E</td>\n",
       "      <td>21</td>\n",
       "      <td>21.4</td>\n",
       "      <td>-0.4</td>\n",
       "      <td>0.4</td>\n",
       "    </tr>\n",
       "  </tbody>\n",
       "</table>\n",
       "</div>"
      ],
      "text/plain": [
       "  type  values  mean  val-mean  pos_vm\n",
       "0    A      18  21.4      -3.4     3.4\n",
       "1    B      21  21.4      -0.4     0.4\n",
       "2    C      23  21.4       1.6     1.6\n",
       "3    D      24  21.4       2.6     2.6\n",
       "4    E      21  21.4      -0.4     0.4"
      ]
     },
     "metadata": {},
     "output_type": "display_data"
    },
    {
     "data": {
      "image/png": "[encoded data removed]",
      "text/plain": [
       "<Figure size 400x400 with 1 Axes>"
      ]
     },
     "metadata": {},
     "output_type": "display_data"
    }
   ],
   "source": [
    "\n",
    "plt.style.use('ggplot')\n",
    "np.random.seed(23)\n",
    "\n",
    "values = np.random.randint(15, 30 , 5) \n",
    "typ =  ['A' , 'B' , 'C' , 'D' , 'E']\n",
    " \n",
    "mc_df = pd.DataFrame({\n",
    "    \"type\" : typ  , \n",
    "    'values' : values \n",
    "    \n",
    "}) \n",
    "\n",
    "mc_df['mean'] = mc_df['values'].mean()\n",
    "mc_df['val-mean'] = mc_df['values'] - mc_df['mean'] \n",
    "mc_df['pos_vm'] = abs(mc_df['val-mean'])\n",
    "# mc_df['']\n",
    "\n",
    "# mean_mock = [values.mean()] *  len(typ) \n",
    "\n",
    "print()\n",
    "\n",
    "plt.figure(figsize=(4 , 4))\n",
    "\n",
    "display(mc_df)\n",
    "\n",
    "# err = np.random.randint(2, 7 , 5)\n",
    "\n",
    "# x = [1, 2, 3, 4, 5]\n",
    "# y = [2, 4, 1, 5, 3]\n",
    "# yerr = []\n",
    "\n",
    "# plt.plt(type, mean_mock)\n",
    "plt.plot(mc_df['type'] , mc_df['values'] , color='b') \n",
    "plt.plot(mc_df['type'] , mc_df['mean'] , color='r', linestyle='--' , alpha=0.5) \n",
    "plt.errorbar(mc_df['type'] , mc_df['mean'] , yerr=mc_df['pos_vm'].values  , fmt='none' , color='grey' , alpha=0.4 )   \n",
    "\n",
    "\n",
    "plt.show()\n"
   ]
  }
 ],
 "metadata": {
  "kernelspec": {
   "display_name": "Python 3 (ipykernel)",
   "language": "python",
   "name": "python3"
  },
  "language_info": {
   "codemirror_mode": {
    "name": "ipython",
    "version": 3
   },
   "file_extension": ".py",
   "mimetype": "text/x-python",
   "name": "python",
   "nbconvert_exporter": "python",
   "pygments_lexer": "ipython3",
   "version": "3.11.5"
  }
 },
 "nbformat": 4,
 "nbformat_minor": 5
}
