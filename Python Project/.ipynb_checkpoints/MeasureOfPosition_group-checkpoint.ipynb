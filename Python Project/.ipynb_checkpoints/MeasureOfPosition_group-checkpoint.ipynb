{
 "cells": [
  {
   "cell_type": "code",
   "execution_count": 2,
   "id": "4bd20f8e-521e-43a1-9a98-8b5a5d613cec",
   "metadata": {},
   "outputs": [],
   "source": [
    "import pandas as pd  \n",
    "import numpy as np"
   ]
  },
  {
   "cell_type": "code",
   "execution_count": 77,
   "id": "e18e804d-aaab-44e9-8602-fed6461554d4",
   "metadata": {},
   "outputs": [
    {
     "name": "stdout",
     "output_type": "stream",
     "text": [
      "5 - 10 \n",
      "11 - 15\n",
      "16 - 20\n",
      "21 - 25\n",
      "26 - 30\n"
     ]
    }
   ],
   "source": [
    "# group = \n",
    "\n",
    "\n",
    "## CREATE group sequence with the interval of 5\n",
    "    # [ 5 - 10 , 11-15 ,  16-20 ,   21-25  ] \n",
    "    \n",
    "for x in range(5, 30 , 5):\n",
    "    if x == 5:\n",
    "        print(f\"{x} - {x + 5 } \") \n",
    "    else : \n",
    "        print(f\"{x + 1 } - {x + 5}\")\n",
    "\n",
    "## sampoink code \n",
    "# -- -----------------------------\n",
    "\n",
    "        "
   ]
  },
  {
   "cell_type": "code",
   "execution_count": 37,
   "id": "e433d9f5-6959-466c-a82f-96f8a39d90d3",
   "metadata": {},
   "outputs": [
    {
     "data": {
      "text/plain": [
       "'14free'"
      ]
     },
     "execution_count": 37,
     "metadata": {},
     "output_type": "execute_result"
    }
   ],
   "source": [
    "free = str(12)\n",
    "free = str(12+2)  \n",
    "peste = free + \"free\"\n",
    "\n",
    "peste \n",
    "\n",
    "\n",
    "\n"
   ]
  },
  {
   "cell_type": "code",
   "execution_count": 76,
   "id": "5f5b39d8-71b4-43c3-b431-093ee714d92f",
   "metadata": {},
   "outputs": [
    {
     "name": "stdout",
     "output_type": "stream",
     "text": [
      "5 - 10 \n",
      "11 - 15\n",
      "16 - 20\n",
      "21 - 25\n",
      "26 - 30\n",
      "['5-10', '11-15', '16-20', '21-25', '26-30']\n"
     ]
    }
   ],
   "source": [
    "# -----------------------\n",
    "\n",
    "classx = []\n",
    "for x in range(5, 30 , 5):\n",
    "    if x == 5:\n",
    "        print(f\"{x} - {x + 5 } \")  \n",
    "        sub_class = str(x)+\"-\"+str(x+5)\n",
    "        classx.append(sub_class)                \n",
    "    else : \n",
    "        print(f\"{x + 1 } - {x + 5}\")\n",
    "        sub_class = str(x+1)+\"-\"+str(x+5)\n",
    "        classx.append(sub_class)\n",
    "print(classx)\n",
    "# \n",
    "# "
   ]
  },
  {
   "cell_type": "code",
   "execution_count": 3,
   "id": "10229fd0-936b-4489-906b-e18812741dd4",
   "metadata": {},
   "outputs": [
    {
     "ename": "NameError",
     "evalue": "name 'group' is not defined",
     "output_type": "error",
     "traceback": [
      "\u001b[1;31m---------------------------------------------------------------------------\u001b[0m",
      "\u001b[1;31mNameError\u001b[0m                                 Traceback (most recent call last)",
      "Cell \u001b[1;32mIn[3], line 2\u001b[0m\n\u001b[0;32m      1\u001b[0m group \u001b[38;5;241m=\u001b[39m pd\u001b[38;5;241m.\u001b[39mDataFrame(\n\u001b[1;32m----> 2\u001b[0m     {\u001b[38;5;124m'\u001b[39m\u001b[38;5;124mclass_\u001b[39m\u001b[38;5;124m'\u001b[39m: \u001b[43mgroup\u001b[49m } , \n\u001b[0;32m      3\u001b[0m     {\u001b[38;5;124m'\u001b[39m\u001b[38;5;124mscore\u001b[39m\u001b[38;5;124m'\u001b[39m : sampoik } \n\u001b[0;32m      4\u001b[0m     \n\u001b[0;32m      5\u001b[0m )\n",
      "\u001b[1;31mNameError\u001b[0m: name 'group' is not defined"
     ]
    }
   ],
   "source": [
    "group = pd.DataFrame(\n",
    "    {'class_': class } , \n",
    "    {'score_' : sampoik } \n",
    "    \n",
    ")\n"
   ]
  }
 ],
 "metadata": {
  "kernelspec": {
   "display_name": "Python 3 (ipykernel)",
   "language": "python",
   "name": "python3"
  },
  "language_info": {
   "codemirror_mode": {
    "name": "ipython",
    "version": 3
   },
   "file_extension": ".py",
   "mimetype": "text/x-python",
   "name": "python",
   "nbconvert_exporter": "python",
   "pygments_lexer": "ipython3",
   "version": "3.11.7"
  }
 },
 "nbformat": 4,
 "nbformat_minor": 5
}
