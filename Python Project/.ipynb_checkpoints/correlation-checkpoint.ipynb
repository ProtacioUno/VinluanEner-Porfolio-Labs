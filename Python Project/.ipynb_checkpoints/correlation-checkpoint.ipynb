{
 "cells": [
  {
   "cell_type": "code",
   "execution_count": 1,
   "id": "d25f2377-998d-4754-a9fc-f8961dcba7cb",
   "metadata": {},
   "outputs": [],
   "source": [
    "import pandas as pd\n",
    "import numpy as np \n",
    "import matplotlib.pyplot as plt"
   ]
  },
  {
   "cell_type": "markdown",
   "id": "a47d1ef2-74be-4365-8ede-b39cef44faa8",
   "metadata": {},
   "source": [
    "## init dataframe"
   ]
  },
  {
   "cell_type": "code",
   "execution_count": 2,
   "id": "a4c53fe5-443a-4fa4-8950-890c77622d2e",
   "metadata": {},
   "outputs": [
    {
     "data": {
      "text/html": [
       "<div>\n",
       "<style scoped>\n",
       "    .dataframe tbody tr th:only-of-type {\n",
       "        vertical-align: middle;\n",
       "    }\n",
       "\n",
       "    .dataframe tbody tr th {\n",
       "        vertical-align: top;\n",
       "    }\n",
       "\n",
       "    .dataframe thead th {\n",
       "        text-align: right;\n",
       "    }\n",
       "</style>\n",
       "<table border=\"1\" class=\"dataframe\">\n",
       "  <thead>\n",
       "    <tr style=\"text-align: right;\">\n",
       "      <th></th>\n",
       "      <th>x</th>\n",
       "      <th>y</th>\n",
       "      <th>xy</th>\n",
       "      <th>x^2</th>\n",
       "      <th>y^2</th>\n",
       "    </tr>\n",
       "  </thead>\n",
       "  <tbody>\n",
       "    <tr>\n",
       "      <th>0</th>\n",
       "      <td>1</td>\n",
       "      <td>2</td>\n",
       "      <td>2</td>\n",
       "      <td>1</td>\n",
       "      <td>4</td>\n",
       "    </tr>\n",
       "    <tr>\n",
       "      <th>1</th>\n",
       "      <td>2</td>\n",
       "      <td>4</td>\n",
       "      <td>8</td>\n",
       "      <td>4</td>\n",
       "      <td>16</td>\n",
       "    </tr>\n",
       "    <tr>\n",
       "      <th>2</th>\n",
       "      <td>3</td>\n",
       "      <td>7</td>\n",
       "      <td>21</td>\n",
       "      <td>9</td>\n",
       "      <td>49</td>\n",
       "    </tr>\n",
       "    <tr>\n",
       "      <th>3</th>\n",
       "      <td>4</td>\n",
       "      <td>9</td>\n",
       "      <td>36</td>\n",
       "      <td>16</td>\n",
       "      <td>81</td>\n",
       "    </tr>\n",
       "    <tr>\n",
       "      <th>4</th>\n",
       "      <td>5</td>\n",
       "      <td>12</td>\n",
       "      <td>60</td>\n",
       "      <td>25</td>\n",
       "      <td>144</td>\n",
       "    </tr>\n",
       "    <tr>\n",
       "      <th>5</th>\n",
       "      <td>6</td>\n",
       "      <td>14</td>\n",
       "      <td>84</td>\n",
       "      <td>36</td>\n",
       "      <td>196</td>\n",
       "    </tr>\n",
       "  </tbody>\n",
       "</table>\n",
       "</div>"
      ],
      "text/plain": [
       "   x   y  xy  x^2  y^2\n",
       "0  1   2   2    1    4\n",
       "1  2   4   8    4   16\n",
       "2  3   7  21    9   49\n",
       "3  4   9  36   16   81\n",
       "4  5  12  60   25  144\n",
       "5  6  14  84   36  196"
      ]
     },
     "metadata": {},
     "output_type": "display_data"
    },
    {
     "name": "stdout",
     "output_type": "stream",
     "text": [
      "x       21\n",
      "y       48\n",
      "xy     211\n",
      "x^2     91\n",
      "y^2    490\n",
      "dtype: int64\n",
      "\n",
      " \n",
      "21\n"
     ]
    }
   ],
   "source": [
    "df_core = pd.DataFrame({\n",
    "    \"x\": [1, 2 ,3  , 4 ,5 , 6], \n",
    "    'y':[2 ,4 , 7 , 9 ,12 , 14]  })\n",
    "\n",
    "\n",
    "df_core['xy']  =  df_core['x']  * df_core['y']\n",
    "df_core['x^2'] = df_core['x'].pow(2) \n",
    "df_core['y^2'] = df_core['y'].pow(2)\n",
    "\n",
    "sums = df_core.sum()\n",
    "\n",
    "# df_core['']\n",
    "\n",
    "display(df_core)  \n",
    "print(sums)\n",
    "print('\\n ')\n",
    "print(sums['x'])\n"
   ]
  },
  {
   "cell_type": "markdown",
   "id": "3cb0e56c-6046-4d0f-8294-fb858adbbaa6",
   "metadata": {},
   "source": [
    "# Formula itself "
   ]
  },
  {
   "cell_type": "code",
   "execution_count": 140,
   "id": "542d0099-b7ca-484b-b157-85bd220f123f",
   "metadata": {},
   "outputs": [
    {
     "data": {
      "image/png": "[encoded data removed]",
      "text/plain": [
       "<Figure size 640x480 with 1 Axes>"
      ]
     },
     "metadata": {},
     "output_type": "display_data"
    }
   ],
   "source": [
    "a = r'\\frac{n\\sum_{}^{}xy - \\sum_{}^{}x\\sum_{}^{}y} {\\sqrt{[n\\sum_{}^{}x^{2}-(\\sum_{}^{}x)^{2}] [n\\sum_{}^{} y^{2}-(\\sum_{}^{}y)^{2}] }} '\n",
    "ax = plt.axes([0,0,0.3,0.3]) #left,bottom,width,height\n",
    "ax.set_xticks([])\n",
    "ax.set_yticks([])\n",
    "ax.axis('off')\n",
    "plt.text(0.2,0.4 ,'$%s$' %a,size=50,color=\"green\") \n",
    "plt.show()"
   ]
  },
  {
   "cell_type": "code",
   "execution_count": 4,
   "id": "9b80aea9-d699-478d-a7de-3a622e22f8be",
   "metadata": {},
   "outputs": [
    {
     "name": "stdout",
     "output_type": "stream",
     "text": [
      "6\n"
     ]
    }
   ],
   "source": [
    "print(len(df_core))"
   ]
  },
  {
   "cell_type": "code",
   "execution_count": 250,
   "id": "7f9354ca-d028-4923-bd30-ba22c26e9886",
   "metadata": {},
   "outputs": [
    {
     "data": {
      "image/png": "[encoded data removed]",
      "text/plain": [
       "<Figure size 640x480 with 1 Axes>"
      ]
     },
     "metadata": {},
     "output_type": "display_data"
    }
   ],
   "source": [
    "# n = len(df_core)\n",
    "\n",
    "# upper = (len(df_core) - 2 )  \n",
    "# upper\n",
    "\n",
    "# n = len(df_core)\n",
    "n = 4\n",
    "# peps = r'\\frac{3- n}{100}  %d  ' % n\n",
    "\n",
    "\n",
    "a_subs = r'\\frac{ &d \\sum_{}^{}xy - \\sum_{}^{}x\\sum_{}^{}y}      {\\sqrt{[n\\sum_{}^{}x^{2}-(\\sum_{}^{}x)^{2}] [n\\sum_{}^{} y^{2}-(\\sum_{}^{}y)^{2}] }} '  % n \n",
    "# a_subs = r'' \n",
    "\n",
    "\n",
    "\n",
    "ax = plt.axes([0,0,0.3,0.3]) #left,bottom,width,height\n",
    "ax.set_xticks([])\n",
    "ax.set_yticks([])\n",
    "ax.axis('off')\n",
    "plt.text(0.2,0.4 ,'$%s$' %peps ,size=50,color=\"green\") \n",
    "plt.show() \n",
    "\n",
    "\n"
   ]
  }
 ],
 "metadata": {
  "kernelspec": {
   "display_name": "Python 3 (ipykernel)",
   "language": "python",
   "name": "python3"
  },
  "language_info": {
   "codemirror_mode": {
    "name": "ipython",
    "version": 3
   },
   "file_extension": ".py",
   "mimetype": "text/x-python",
   "name": "python",
   "nbconvert_exporter": "python",
   "pygments_lexer": "ipython3",
   "version": "3.11.5"
  }
 },
 "nbformat": 4,
 "nbformat_minor": 5
}
