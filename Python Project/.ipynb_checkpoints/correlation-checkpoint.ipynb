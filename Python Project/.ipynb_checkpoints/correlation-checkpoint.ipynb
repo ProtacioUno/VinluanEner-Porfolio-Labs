{
 "cells": [
  {
   "cell_type": "code",
   "execution_count": 2,
   "id": "d25f2377-998d-4754-a9fc-f8961dcba7cb",
   "metadata": {},
   "outputs": [],
   "source": [
    "import pandas as pd\n",
    "import numpy as np \n",
    "import matplotlib.pyplot as plt\n",
    "import math"
   ]
  },
  {
   "cell_type": "markdown",
   "id": "a47d1ef2-74be-4365-8ede-b39cef44faa8",
   "metadata": {},
   "source": [
    "## init dataframe"
   ]
  },
  {
   "cell_type": "code",
   "execution_count": 6,
   "id": "a4c53fe5-443a-4fa4-8950-890c77622d2e",
   "metadata": {},
   "outputs": [
    {
     "data": {
      "text/html": [
       "<div>\n",
       "<style scoped>\n",
       "    .dataframe tbody tr th:only-of-type {\n",
       "        vertical-align: middle;\n",
       "    }\n",
       "\n",
       "    .dataframe tbody tr th {\n",
       "        vertical-align: top;\n",
       "    }\n",
       "\n",
       "    .dataframe thead th {\n",
       "        text-align: right;\n",
       "    }\n",
       "</style>\n",
       "<table border=\"1\" class=\"dataframe\">\n",
       "  <thead>\n",
       "    <tr style=\"text-align: right;\">\n",
       "      <th></th>\n",
       "      <th>x</th>\n",
       "      <th>y</th>\n",
       "      <th>xy</th>\n",
       "      <th>x^2</th>\n",
       "      <th>y^2</th>\n",
       "    </tr>\n",
       "  </thead>\n",
       "  <tbody>\n",
       "    <tr>\n",
       "      <th>0</th>\n",
       "      <td>1</td>\n",
       "      <td>2</td>\n",
       "      <td>2</td>\n",
       "      <td>1</td>\n",
       "      <td>4</td>\n",
       "    </tr>\n",
       "    <tr>\n",
       "      <th>1</th>\n",
       "      <td>2</td>\n",
       "      <td>4</td>\n",
       "      <td>8</td>\n",
       "      <td>4</td>\n",
       "      <td>16</td>\n",
       "    </tr>\n",
       "    <tr>\n",
       "      <th>2</th>\n",
       "      <td>3</td>\n",
       "      <td>7</td>\n",
       "      <td>21</td>\n",
       "      <td>9</td>\n",
       "      <td>49</td>\n",
       "    </tr>\n",
       "    <tr>\n",
       "      <th>3</th>\n",
       "      <td>4</td>\n",
       "      <td>9</td>\n",
       "      <td>36</td>\n",
       "      <td>16</td>\n",
       "      <td>81</td>\n",
       "    </tr>\n",
       "    <tr>\n",
       "      <th>4</th>\n",
       "      <td>5</td>\n",
       "      <td>12</td>\n",
       "      <td>60</td>\n",
       "      <td>25</td>\n",
       "      <td>144</td>\n",
       "    </tr>\n",
       "    <tr>\n",
       "      <th>5</th>\n",
       "      <td>6</td>\n",
       "      <td>14</td>\n",
       "      <td>84</td>\n",
       "      <td>36</td>\n",
       "      <td>196</td>\n",
       "    </tr>\n",
       "    <tr>\n",
       "      <th>6</th>\n",
       "      <td>7</td>\n",
       "      <td>16</td>\n",
       "      <td>112</td>\n",
       "      <td>49</td>\n",
       "      <td>256</td>\n",
       "    </tr>\n",
       "    <tr>\n",
       "      <th>7</th>\n",
       "      <td>8</td>\n",
       "      <td>19</td>\n",
       "      <td>152</td>\n",
       "      <td>64</td>\n",
       "      <td>361</td>\n",
       "    </tr>\n",
       "    <tr>\n",
       "      <th>8</th>\n",
       "      <td>9</td>\n",
       "      <td>21</td>\n",
       "      <td>189</td>\n",
       "      <td>81</td>\n",
       "      <td>441</td>\n",
       "    </tr>\n",
       "    <tr>\n",
       "      <th>9</th>\n",
       "      <td>10</td>\n",
       "      <td>23</td>\n",
       "      <td>230</td>\n",
       "      <td>100</td>\n",
       "      <td>529</td>\n",
       "    </tr>\n",
       "    <tr>\n",
       "      <th>10</th>\n",
       "      <td>11</td>\n",
       "      <td>25</td>\n",
       "      <td>275</td>\n",
       "      <td>121</td>\n",
       "      <td>625</td>\n",
       "    </tr>\n",
       "    <tr>\n",
       "      <th>11</th>\n",
       "      <td>12</td>\n",
       "      <td>28</td>\n",
       "      <td>336</td>\n",
       "      <td>144</td>\n",
       "      <td>784</td>\n",
       "    </tr>\n",
       "    <tr>\n",
       "      <th>12</th>\n",
       "      <td>13</td>\n",
       "      <td>32</td>\n",
       "      <td>416</td>\n",
       "      <td>169</td>\n",
       "      <td>1024</td>\n",
       "    </tr>\n",
       "    <tr>\n",
       "      <th>13</th>\n",
       "      <td>15</td>\n",
       "      <td>36</td>\n",
       "      <td>540</td>\n",
       "      <td>225</td>\n",
       "      <td>1296</td>\n",
       "    </tr>\n",
       "    <tr>\n",
       "      <th>14</th>\n",
       "      <td>17</td>\n",
       "      <td>38</td>\n",
       "      <td>646</td>\n",
       "      <td>289</td>\n",
       "      <td>1444</td>\n",
       "    </tr>\n",
       "  </tbody>\n",
       "</table>\n",
       "</div>"
      ],
      "text/plain": [
       "     x   y   xy  x^2   y^2\n",
       "0    1   2    2    1     4\n",
       "1    2   4    8    4    16\n",
       "2    3   7   21    9    49\n",
       "3    4   9   36   16    81\n",
       "4    5  12   60   25   144\n",
       "5    6  14   84   36   196\n",
       "6    7  16  112   49   256\n",
       "7    8  19  152   64   361\n",
       "8    9  21  189   81   441\n",
       "9   10  23  230  100   529\n",
       "10  11  25  275  121   625\n",
       "11  12  28  336  144   784\n",
       "12  13  32  416  169  1024\n",
       "13  15  36  540  225  1296\n",
       "14  17  38  646  289  1444"
      ]
     },
     "metadata": {},
     "output_type": "display_data"
    },
    {
     "name": "stdout",
     "output_type": "stream",
     "text": [
      "x       123\n",
      "y       286\n",
      "xy     3107\n",
      "x^2    1333\n",
      "y^2    7250\n",
      "dtype: int64\n"
     ]
    }
   ],
   "source": [
    "df_core = pd.DataFrame({\n",
    "    \"x\": [1, 2 ,3  , 4 ,5 , 6 , 7, 8 , 9, 10, 11 , 12, 13, 15 , 17] ,  \n",
    "    'y':[2 ,4 , 7 , 9 ,12 , 14, 16, 19,21 , 23 ,  25  , 28 , 32, 36,38 ]  })\n",
    "df_core['xy']  =  df_core['x']  * df_core['y']\n",
    "df_core['x^2'] = df_core['x'].pow(2) \n",
    "df_core['y^2'] = df_core['y'].pow(2)\n",
    "\n",
    "sums = df_core.sum()\n",
    "display(df_core)\n",
    "print(sums)\n",
    "# print(sums['x'])\n"
   ]
  },
  {
   "cell_type": "markdown",
   "id": "3cb0e56c-6046-4d0f-8294-fb858adbbaa6",
   "metadata": {},
   "source": [
    "# Formula itself "
   ]
  },
  {
   "cell_type": "code",
   "execution_count": 25,
   "id": "542d0099-b7ca-484b-b157-85bd220f123f",
   "metadata": {},
   "outputs": [
    {
     "data": {
      "image/png": "[encoded data removed]",
      "text/plain": [
       "<Figure size 640x480 with 1 Axes>"
      ]
     },
     "metadata": {},
     "output_type": "display_data"
    }
   ],
   "source": [
    "plt.figure(facecolor='black')     \n",
    "a = r'\\frac{n\\sum_{}^{}xy - \\sum_{}^{}x\\sum_{}^{}y} {\\sqrt{[n\\sum_{}^{}x^{2}-(\\sum_{}^{}x)^{2}] [n\\sum_{}^{} y^{2}-(\\sum_{}^{}y)^{2}] }} '\n",
    "ax = plt.axes([0,0,0.3,0.3]) #left,bottom,width,height\n",
    "ax.set_xticks([])\n",
    "ax.set_yticks([])\n",
    "ax.axis('off')\n",
    "plt.text(0.2,0.4 ,'$%s$' %a,size=50,color=\"white\") \n",
    "plt.show()"
   ]
  },
  {
   "cell_type": "code",
   "execution_count": 4,
   "id": "9b80aea9-d699-478d-a7de-3a622e22f8be",
   "metadata": {},
   "outputs": [
    {
     "name": "stdout",
     "output_type": "stream",
     "text": [
      "15\n"
     ]
    }
   ],
   "source": [
    "print(len(df_core))"
   ]
  },
  {
   "cell_type": "markdown",
   "id": "266d2fc3-7a7e-4acf-9c10-1b14a07955b5",
   "metadata": {},
   "source": [
    "# Subtition then solve"
   ]
  },
  {
   "cell_type": "code",
   "execution_count": 13,
   "id": "7f9354ca-d028-4923-bd30-ba22c26e9886",
   "metadata": {},
   "outputs": [
    {
     "data": {
      "image/png": "[encoded data removed]",
      "text/plain": [
       "<Figure size 640x480 with 1 Axes>"
      ]
     },
     "metadata": {},
     "output_type": "display_data"
    }
   ],
   "source": [
    "## declaring variable to use in a_subs\n",
    "plt.figure(facecolor='black')     \n",
    "\n",
    "## declaring variable to use in a_subs\n",
    "n = len(df_core)\n",
    "xy  = sums['xy']\n",
    "x = sums['x']\n",
    "y = sums['y']\n",
    "xpow2 = sums['x^2'] \n",
    "ypow2 = sums['y^2']  \n",
    "# peps = r'\\frac{3- %d }{100}  %d  ' % n\n",
    "## MAIN FORMULA LATEX\n",
    "## MAIN FORMULA LATEX\n",
    "## MAIN FORMULA LATEX\n",
    "# a = r'\\frac{n\\sum_{}^{}xy - \\sum_{}^{}x\\sum_{}^{}y} {\\sqrt{[n\\sum_{}^{}x^{2}-(\\sum_{}^{}x)^{2}] [n\\sum_{}^{} y^{2}-(\\sum_{}^{}y)^{2}] }} '\n",
    "a_subs = r'\\frac{ %d (%d) -  %d (%d) }   {\\sqrt{[ %d (%d) -(%d)^{2} ]   [%d (%d) -(%d)^{2}] }} '  % (n , xy,  x , y , n, xpow2, x , n , ypow2 , y)\n",
    "\n",
    "ax = plt.axes([0,0,0.3,0.3]) #left,bottom,width,height\n",
    "ax.set_xticks([])\n",
    "ax.set_yticks([])\n",
    "ax.axis('off')\n",
    "plt.text(0.2,0.4 ,'$%s$' %a_subs ,size=50,color=\"white\") \n",
    "plt.show() \n",
    "# print( 6 * 211) \n",
    "\n"
   ]
  },
  {
   "cell_type": "code",
   "execution_count": 23,
   "id": "efa2778d-7f7f-4992-8527-b82188a07ace",
   "metadata": {},
   "outputs": [
    {
     "name": "stdout",
     "output_type": "stream",
     "text": [
      "26954\n"
     ]
    },
    {
     "data": {
      "image/png": "[encoded data removed]",
      "text/plain": [
       "<Figure size 640x480 with 1 Axes>"
      ]
     },
     "metadata": {},
     "output_type": "display_data"
    }
   ],
   "source": [
    "\n",
    "\n",
    "upper_left = ( n * xy )\n",
    "upper_right = (x * y ) \n",
    " \n",
    "lower_left = (n * xpow2 ) - (x**2)\n",
    "lower_right =  (n * ypow2) - (y**2)\n",
    "print(lower_right)\n",
    "b_subs = r'\\frac{ %d -  %d }  {\\sqrt{[  %d ]   [ %d] }} '  % (upper_left , upper_right , lower_left , lower_right)\n",
    "\n",
    "plt.figure(facecolor='black')     \n",
    "ax = plt.axes([0,0,0.3,0.3]) #left,bottom,width,height\n",
    "ax.set_xticks([])\n",
    "ax.set_yticks([])\n",
    "ax.axis('off')\n",
    "plt.text(0.2,0.4 ,'$%s$' %b_subs ,size=50,color=\"white\") \n",
    "plt.show() \n",
    "\n",
    "# print(upper) \n",
    "\n",
    "# loweer\n"
   ]
  },
  {
   "cell_type": "code",
   "execution_count": 20,
   "id": "d71b52b1-0c4e-4e82-81e9-8e03b64d99b2",
   "metadata": {},
   "outputs": [
    {
     "data": {
      "image/png": "[encoded data removed]",
      "text/plain": [
       "<Figure size 640x480 with 1 Axes>"
      ]
     },
     "metadata": {},
     "output_type": "display_data"
    }
   ],
   "source": [
    "\n",
    "# print(lower_right)\n",
    "upper_upper =  upper_left - upper_right \n",
    "lower_lower = lower_left * lower_right\n",
    "\n",
    "c_subs = r'\\frac{ %d }  {\\sqrt{ %d }} '  % ( upper_upper  , lower_lower)\n",
    "\n",
    "plt.figure(facecolor='black')     \n",
    "\n",
    "ax = plt.axes([0,0,0.3,0.3]) #left,bottom,width,height\n",
    "ax.set_xticks([])\n",
    "ax.set_yticks([])\n",
    "ax.axis('off')\n",
    "plt.text(0.2,0.4 ,'$%s$' %c_subs ,size=50,color=\"white\") \n",
    "plt.show() \n",
    "\n",
    "# print(upper) \n",
    "\n",
    "# loweer\n"
   ]
  },
  {
   "cell_type": "code",
   "execution_count": 21,
   "id": "ba0dcbcd-68ad-4acd-ab68-ea3d1b1c47e3",
   "metadata": {},
   "outputs": [
    {
     "data": {
      "image/png": "[encoded data removed]",
      "text/plain": [
       "<Figure size 640x480 with 1 Axes>"
      ]
     },
     "metadata": {},
     "output_type": "display_data"
    }
   ],
   "source": [
    "\n",
    "\n",
    "# upper_left = ( n * xy )\n",
    "# upper_right = (x * y ) \n",
    " \n",
    "# lower_left = (n * xpow2 ) - (x**2)\n",
    "# lower_right =  (n * ypow2) - (y**2)\n",
    "# print(lower_right)\n",
    "upper_upper =  upper_left - upper_right \n",
    "lower_lower = lower_left * lower_right\n",
    "\n",
    "final_ans =  upper_upper / math.sqrt(lower_lower)\n",
    "# final_ans = 3.14\n",
    "d_subs = r' =%g'  % (final_ans)\n",
    "\n",
    "ax = plt.axes([0,0,0.3,0.3]) #left,bottom,width,height\n",
    "ax.set_xticks([])\n",
    "ax.set_yticks([])\n",
    "ax.axis('off')\n",
    "plt.text(0.2,0.4 ,'$%s$' %d_subs ,size=50,color=\"white\") \n",
    "plt.show() \n",
    "\n",
    "# print(upper) \n",
    "\n",
    "# loweer\n"
   ]
  },
  {
   "cell_type": "code",
   "execution_count": 9,
   "id": "7f036596-d8c4-4f20-bb3d-f04918c9f852",
   "metadata": {},
   "outputs": [],
   "source": [
    "lower_left = (n * xpow2) -( x**2)\n"
   ]
  },
  {
   "cell_type": "code",
   "execution_count": 10,
   "id": "14a5b537-2e4f-4e41-9250-cf45498e9611",
   "metadata": {},
   "outputs": [
    {
     "data": {
      "text/html": [
       "<div>\n",
       "<style scoped>\n",
       "    .dataframe tbody tr th:only-of-type {\n",
       "        vertical-align: middle;\n",
       "    }\n",
       "\n",
       "    .dataframe tbody tr th {\n",
       "        vertical-align: top;\n",
       "    }\n",
       "\n",
       "    .dataframe thead th {\n",
       "        text-align: right;\n",
       "    }\n",
       "</style>\n",
       "<table border=\"1\" class=\"dataframe\">\n",
       "  <thead>\n",
       "    <tr style=\"text-align: right;\">\n",
       "      <th></th>\n",
       "      <th>x</th>\n",
       "      <th>y</th>\n",
       "      <th>xy</th>\n",
       "      <th>x^2</th>\n",
       "      <th>y^2</th>\n",
       "    </tr>\n",
       "  </thead>\n",
       "  <tbody>\n",
       "    <tr>\n",
       "      <th>0</th>\n",
       "      <td>1</td>\n",
       "      <td>2</td>\n",
       "      <td>2</td>\n",
       "      <td>1</td>\n",
       "      <td>4</td>\n",
       "    </tr>\n",
       "    <tr>\n",
       "      <th>1</th>\n",
       "      <td>2</td>\n",
       "      <td>4</td>\n",
       "      <td>8</td>\n",
       "      <td>4</td>\n",
       "      <td>16</td>\n",
       "    </tr>\n",
       "    <tr>\n",
       "      <th>2</th>\n",
       "      <td>3</td>\n",
       "      <td>7</td>\n",
       "      <td>21</td>\n",
       "      <td>9</td>\n",
       "      <td>49</td>\n",
       "    </tr>\n",
       "    <tr>\n",
       "      <th>3</th>\n",
       "      <td>4</td>\n",
       "      <td>9</td>\n",
       "      <td>36</td>\n",
       "      <td>16</td>\n",
       "      <td>81</td>\n",
       "    </tr>\n",
       "    <tr>\n",
       "      <th>4</th>\n",
       "      <td>5</td>\n",
       "      <td>12</td>\n",
       "      <td>60</td>\n",
       "      <td>25</td>\n",
       "      <td>144</td>\n",
       "    </tr>\n",
       "    <tr>\n",
       "      <th>5</th>\n",
       "      <td>6</td>\n",
       "      <td>14</td>\n",
       "      <td>84</td>\n",
       "      <td>36</td>\n",
       "      <td>196</td>\n",
       "    </tr>\n",
       "    <tr>\n",
       "      <th>6</th>\n",
       "      <td>7</td>\n",
       "      <td>16</td>\n",
       "      <td>112</td>\n",
       "      <td>49</td>\n",
       "      <td>256</td>\n",
       "    </tr>\n",
       "    <tr>\n",
       "      <th>7</th>\n",
       "      <td>8</td>\n",
       "      <td>19</td>\n",
       "      <td>152</td>\n",
       "      <td>64</td>\n",
       "      <td>361</td>\n",
       "    </tr>\n",
       "    <tr>\n",
       "      <th>8</th>\n",
       "      <td>9</td>\n",
       "      <td>21</td>\n",
       "      <td>189</td>\n",
       "      <td>81</td>\n",
       "      <td>441</td>\n",
       "    </tr>\n",
       "    <tr>\n",
       "      <th>9</th>\n",
       "      <td>10</td>\n",
       "      <td>23</td>\n",
       "      <td>230</td>\n",
       "      <td>100</td>\n",
       "      <td>529</td>\n",
       "    </tr>\n",
       "    <tr>\n",
       "      <th>10</th>\n",
       "      <td>11</td>\n",
       "      <td>25</td>\n",
       "      <td>275</td>\n",
       "      <td>121</td>\n",
       "      <td>625</td>\n",
       "    </tr>\n",
       "    <tr>\n",
       "      <th>11</th>\n",
       "      <td>12</td>\n",
       "      <td>28</td>\n",
       "      <td>336</td>\n",
       "      <td>144</td>\n",
       "      <td>784</td>\n",
       "    </tr>\n",
       "    <tr>\n",
       "      <th>12</th>\n",
       "      <td>13</td>\n",
       "      <td>32</td>\n",
       "      <td>416</td>\n",
       "      <td>169</td>\n",
       "      <td>1024</td>\n",
       "    </tr>\n",
       "    <tr>\n",
       "      <th>13</th>\n",
       "      <td>15</td>\n",
       "      <td>36</td>\n",
       "      <td>540</td>\n",
       "      <td>225</td>\n",
       "      <td>1296</td>\n",
       "    </tr>\n",
       "    <tr>\n",
       "      <th>14</th>\n",
       "      <td>17</td>\n",
       "      <td>38</td>\n",
       "      <td>646</td>\n",
       "      <td>289</td>\n",
       "      <td>1444</td>\n",
       "    </tr>\n",
       "  </tbody>\n",
       "</table>\n",
       "</div>"
      ],
      "text/plain": [
       "     x   y   xy  x^2   y^2\n",
       "0    1   2    2    1     4\n",
       "1    2   4    8    4    16\n",
       "2    3   7   21    9    49\n",
       "3    4   9   36   16    81\n",
       "4    5  12   60   25   144\n",
       "5    6  14   84   36   196\n",
       "6    7  16  112   49   256\n",
       "7    8  19  152   64   361\n",
       "8    9  21  189   81   441\n",
       "9   10  23  230  100   529\n",
       "10  11  25  275  121   625\n",
       "11  12  28  336  144   784\n",
       "12  13  32  416  169  1024\n",
       "13  15  36  540  225  1296\n",
       "14  17  38  646  289  1444"
      ]
     },
     "metadata": {},
     "output_type": "display_data"
    },
    {
     "data": {
      "text/plain": [
       "Text(0.5, 1.0, 'ang alamat ng bayabas')"
      ]
     },
     "execution_count": 10,
     "metadata": {},
     "output_type": "execute_result"
    },
    {
     "data": {
      "image/png": "[encoded data removed]",
      "text/plain": [
       "<Figure size 640x480 with 2 Axes>"
      ]
     },
     "metadata": {},
     "output_type": "display_data"
    }
   ],
   "source": [
    "from matplotlib import  pyplot as plt\n",
    "\n",
    "display(df_core) \n",
    " \n",
    "color = [3, 6,  3, 7 ,3 ,1 ,3 ,1 ,4  ,8  ,1,5 , 2 , 2 ,3 ]\n",
    "plt.scatter(df_core['x'] , df_core['y'] , c=color ,cmap='Greens' ) # , #  c='red') # s=100)\n",
    "cbar = plt.colorbar()\n",
    "cbar.set_label('Satifactoin')\n",
    "plt.title('ang alamat ng bayabas')\n",
    "# plt.tight_layout()"
   ]
  },
  {
   "cell_type": "code",
   "execution_count": 11,
   "id": "b66276d8-aaf3-446d-a760-f89319dd4f52",
   "metadata": {},
   "outputs": [
    {
     "ename": "NameError",
     "evalue": "name 'pl' is not defined",
     "output_type": "error",
     "traceback": [
      "\u001b[1;31m---------------------------------------------------------------------------\u001b[0m",
      "\u001b[1;31mNameError\u001b[0m                                 Traceback (most recent call last)",
      "Cell \u001b[1;32mIn[11], line 1\u001b[0m\n\u001b[1;32m----> 1\u001b[0m pl\n",
      "\u001b[1;31mNameError\u001b[0m: name 'pl' is not defined"
     ]
    }
   ],
   "source": [
    "pl"
   ]
  }
 ],
 "metadata": {
  "kernelspec": {
   "display_name": "Python 3 (ipykernel)",
   "language": "python",
   "name": "python3"
  },
  "language_info": {
   "codemirror_mode": {
    "name": "ipython",
    "version": 3
   },
   "file_extension": ".py",
   "mimetype": "text/x-python",
   "name": "python",
   "nbconvert_exporter": "python",
   "pygments_lexer": "ipython3",
   "version": "3.11.5"
  }
 },
 "nbformat": 4,
 "nbformat_minor": 5
}
