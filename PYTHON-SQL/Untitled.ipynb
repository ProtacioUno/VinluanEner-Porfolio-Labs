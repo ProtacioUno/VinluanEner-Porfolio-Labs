{
 "cells": [
  {
   "cell_type": "code",
   "execution_count": null,
   "id": "348491d2-7b68-48ff-9a5a-89b87bc918b6",
   "metadata": {
    "editable": true,
    "slideshow": {
     "slide_type": ""
    },
    "tags": []
   },
   "outputs": [],
   "source": [
    "import #"
   ]
  },
  {
   "cell_type": "code",
   "execution_count": null,
   "id": "e278cab9-e408-45f6-9c17-07773ade6921",
   "metadata": {},
   "outputs": [],
   "source": []
  }
 ],
 "metadata": {
  "kernelspec": {
   "display_name": "Python 3 (ipykernel)",
   "language": "python",
   "name": "python3"
  },
  "language_info": {
   "codemirror_mode": {
    "name": "ipython",
    "version": 3
   },
   "file_extension": ".py",
   "mimetype": "text/x-python",
   "name": "python",
   "nbconvert_exporter": "python",
   "pygments_lexer": "ipython3",
   "version": "3.11.5"
  }
 },
 "nbformat": 4,
 "nbformat_minor": 5
}
